{
 "cells": [
  {
   "cell_type": "markdown",
   "metadata": {},
   "source": [
    "# Leitura e visualização de um arquivo *.bin\n"
   ]
  },
  {
   "cell_type": "markdown",
   "metadata": {},
   "source": [
    "----------------------------------------------------------------------------------------------------------------------------------------------------------------------------------------------------------------------------------------\n",
    "\n"
   ]
  },
  {
   "cell_type": "code",
   "execution_count": 14,
   "metadata": {
    "collapsed": true
   },
   "outputs": [],
   "source": [
    "################PACOTES################\n",
    "% matplotlib inline\n",
    "import numpy as np\n",
    "import pylab as py\n",
    "import matplotlib\n",
    "import matplotlib.pyplot as plt\n",
    "#####################################\n",
    "\n"
   ]
  },
  {
   "cell_type": "markdown",
   "metadata": {},
   "source": [
    "# Arquivos"
   ]
  },
  {
   "cell_type": "markdown",
   "metadata": {},
   "source": [
    "\n",
    "\n",
    "O comando de abertura de arquivo é o open('nome_arq', 'modo', buf ), onde nome_arq é o caminho até o arquivo partindo do ponto onde está o script - caso o arquivo esteja no mesmo local é só o mesmo nome do arquivo - e modo pode ser uma das seguintes opções: r - leitura -, w - escritura -, a - anexar -, b - (ex. rb leitura de um binário) binário -, + - (ex. r+) leitura + escritura ou vice versa. Se buf = 1 então python faz buffer do arquivo copiando em memoria e não no disco e só copiando ao disco quando for feito um flush() ou um close(). Si buf = 0 então o arquivo é copiado diretamente ao disco. "
   ]
  },
  {
   "cell_type": "code",
   "execution_count": 13,
   "metadata": {
    "collapsed": false
   },
   "outputs": [],
   "source": [
    "data = open(\"VELOCIDADES.bin\", \"rb\").read()# b is important -> binary\n",
    "plt.show(data)\n",
    "#print(data)"
   ]
  }
 ],
 "metadata": {
  "kernelspec": {
   "display_name": "Python 2",
   "language": "python",
   "name": "python2"
  },
  "language_info": {
   "codemirror_mode": {
    "name": "ipython",
    "version": 2
   },
   "file_extension": ".py",
   "mimetype": "text/x-python",
   "name": "python",
   "nbconvert_exporter": "python",
   "pygments_lexer": "ipython2",
   "version": "2.7.13"
  }
 },
 "nbformat": 4,
 "nbformat_minor": 2
}

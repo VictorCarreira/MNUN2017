{
 "cells": [
  {
   "cell_type": "markdown",
   "metadata": {},
   "source": [
    "<font size=\"6px\" font color=\"blue\" face=\"Times New Roman\"><center><b>Diferenças finitas formulação explícita</b></font></center>"
   ]
  },
  {
   "cell_type": "markdown",
   "metadata": {},
   "source": [
    "--------------------------------------------------------------------------------------------------------------------------------------------------------------------------------------------------------------------------------------------------"
   ]
  },
  {
   "cell_type": "code",
   "execution_count": 1,
   "metadata": {
    "collapsed": true
   },
   "outputs": [],
   "source": [
    "###############PACOTES################\n",
    "% matplotlib inline\n",
    "import numpy as np\n",
    "from numpy.linalg import inv\n",
    "import math \n",
    "from math import sqrt\n",
    "import pylab as py\n",
    "import matplotlib\n",
    "import matplotlib.pyplot as plt\n",
    "import random\n",
    "from random import shuffle\n",
    "import scipy as sp\n",
    "from scipy import misc\n",
    "#from IPython.display import Latex\n",
    "#####################################"
   ]
  },
  {
   "cell_type": "code",
   "execution_count": 6,
   "metadata": {
    "collapsed": false
   },
   "outputs": [
    {
     "name": "stdout",
     "output_type": "stream",
     "text": [
      "[[  1.00000000e+00   1.00000000e+02   2.16700001e+01   2.00000000e+01\n",
      "    2.00000000e+01   2.06262493e+01   5.00000000e+01]\n",
      " [  2.00000000e+00   1.00000000e+02   2.31918392e+01   2.00348606e+01\n",
      "    2.00130730e+01   3.83428480e+08   5.00000000e+01]\n",
      " [  3.00000000e+00   1.00000000e+02   2.45764351e+01   2.01003075e+01\n",
      "    8.00408950e+06   7.34840640e+08   5.00000000e+01]\n",
      " [  4.00000000e+00   1.00000000e+02   2.58339252e+01   1.67105141e+05\n",
      "    2.30097160e+07   1.05657574e+09   5.00000000e+01]\n",
      " [  5.00000000e+00   1.00000000e+02   5.89794816e+08   6.40456875e+05\n",
      "    4.41085680e+07   1.35080550e+09   5.00000000e+01]\n",
      " [  6.00000000e+00   1.00000000e+02   1.13035174e+09   1.38464510e+07\n",
      "    7.04784720e+07   1.61954637e+09   5.00000000e+01]\n",
      " [  7.00000000e+00   1.00000000e+02   1.62527744e+09   3.83356920e+07\n",
      "    1.01633072e+08   1.86467034e+09   5.00000000e+01]\n",
      " [  8.00000000e+00   1.00000000e+02   2.07792243e+09   7.27844320e+07\n",
      "    1.37115136e+08   2.08792102e+09   5.00000000e+01]\n",
      " [  9.00000000e+00   1.00000000e+02   2.49139942e+09   1.15984592e+08\n",
      "    1.76495296e+08   2.29092173e+09   5.00000000e+01]\n",
      " [  1.00000000e+01   1.00000000e+02   2.86859981e+09   1.66834528e+08\n",
      "    2.19370784e+08   2.47518413e+09   5.00000000e+01]\n",
      " [  1.10000000e+01   1.00000000e+02   3.81100646e+09   2.24330560e+08\n",
      "    2.65364192e+08   2.64211456e+09   5.00000000e+01]\n",
      " [  1.20000000e+01   1.00000000e+02   4.67231795e+09   3.00059008e+08\n",
      "    3.14122272e+08   2.79302170e+09   5.00000000e+01]\n",
      " [  1.30000000e+01   1.00000000e+02   5.45850368e+09   3.91623488e+08\n",
      "    3.65575712e+08   2.92912307e+09   5.00000000e+01]\n",
      " [  1.40000000e+01   1.00000000e+02   2.00000000e+01   2.00000000e+01\n",
      "    2.00000000e+01   2.00000000e+01   5.00000000e+01]\n",
      " [  1.50000000e+01   1.00000000e+02   2.00000000e+01   2.00000000e+01\n",
      "    2.00000000e+01   2.00000000e+01   5.00000000e+01]\n",
      " [  1.60000000e+01   1.00000000e+02   2.00000000e+01   2.00000000e+01\n",
      "    2.00000000e+01   2.00000000e+01   5.00000000e+01]\n",
      " [  1.70000000e+01   1.00000000e+02   2.00000000e+01   2.00000000e+01\n",
      "    2.00000000e+01   2.00000000e+01   5.00000000e+01]\n",
      " [  1.80000000e+01   1.00000000e+02   2.00000000e+01   2.00000000e+01\n",
      "    2.00000000e+01   2.00000000e+01   5.00000000e+01]\n",
      " [  1.90000000e+01   1.00000000e+02   2.00000000e+01   2.00000000e+01\n",
      "    2.00000000e+01   2.00000000e+01   5.00000000e+01]\n",
      " [  2.00000000e+01   1.00000000e+02   2.00000000e+01   2.00000000e+01\n",
      "    2.00000000e+01   2.00000000e+01   5.00000000e+01]\n",
      " [  2.10000000e+01   1.00000000e+02   2.00000000e+01   2.00000000e+01\n",
      "    2.00000000e+01   2.00000000e+01   5.00000000e+01]\n",
      " [  2.20000000e+01   1.00000000e+02   2.00000000e+01   2.00000000e+01\n",
      "    2.00000000e+01   2.00000000e+01   5.00000000e+01]\n",
      " [  2.30000000e+01   1.00000000e+02   2.00000000e+01   2.00000000e+01\n",
      "    2.00000000e+01   2.00000000e+01   5.00000000e+01]\n",
      " [  2.40000000e+01   1.00000000e+02   2.00000000e+01   2.00000000e+01\n",
      "    2.00000000e+01   2.00000000e+01   5.00000000e+01]\n",
      " [  2.50000000e+01   1.00000000e+02   2.00000000e+01   2.00000000e+01\n",
      "    2.00000000e+01   2.00000000e+01   5.00000000e+01]\n",
      " [  2.60000000e+01   1.00000000e+02   2.00000000e+01   2.00000000e+01\n",
      "    2.00000000e+01   2.00000000e+01   5.00000000e+01]\n",
      " [  2.70000000e+01   1.00000000e+02   2.00000000e+01   2.00000000e+01\n",
      "    2.00000000e+01   2.00000000e+01   5.00000000e+01]\n",
      " [  2.80000000e+01   1.00000000e+02   2.00000000e+01   2.00000000e+01\n",
      "    2.00000000e+01   2.00000000e+01   5.00000000e+01]\n",
      " [  2.90000000e+01   1.00000000e+02   2.00000000e+01   2.00000000e+01\n",
      "    2.00000000e+01   2.00000000e+01   5.00000000e+01]\n",
      " [  3.00000000e+01   1.00000000e+02   2.00000000e+01   2.00000000e+01\n",
      "    2.00000000e+01   2.00000000e+01   5.00000000e+01]]\n"
     ]
    }
   ],
   "source": [
    "T= np.loadtxt(fname='Trab01b.txt')\n",
    "\n",
    "print(T)"
   ]
  },
  {
   "cell_type": "code",
   "execution_count": 30,
   "metadata": {
    "collapsed": false
   },
   "outputs": [
    {
     "ename": "ValueError",
     "evalue": "x and y must have same first dimension, but have shapes (6,) and (30,)",
     "output_type": "error",
     "traceback": [
      "\u001b[0;31m---------------------------------------------------------------------------\u001b[0m",
      "\u001b[0;31mValueError\u001b[0m                                Traceback (most recent call last)",
      "\u001b[0;32m<ipython-input-30-e47d2e11f6a4>\u001b[0m in \u001b[0;36m<module>\u001b[0;34m()\u001b[0m\n\u001b[1;32m     12\u001b[0m \u001b[0;34m\u001b[0m\u001b[0m\n\u001b[1;32m     13\u001b[0m \u001b[0;31m#-----------------------------------------------------------------------\u001b[0m\u001b[0;34m\u001b[0m\u001b[0;34m\u001b[0m\u001b[0m\n\u001b[0;32m---> 14\u001b[0;31m \u001b[0mplt\u001b[0m\u001b[0;34m.\u001b[0m\u001b[0mplot\u001b[0m\u001b[0;34m(\u001b[0m \u001b[0mTx\u001b[0m\u001b[0;34m,\u001b[0m \u001b[0mTy\u001b[0m\u001b[0;34m,\u001b[0m \u001b[0;34m'go'\u001b[0m\u001b[0;34m)\u001b[0m \u001b[0;31m# green bolinha\u001b[0m\u001b[0;34m\u001b[0m\u001b[0m\n\u001b[0m\u001b[1;32m     15\u001b[0m \u001b[0mplt\u001b[0m\u001b[0;34m.\u001b[0m\u001b[0mplot\u001b[0m\u001b[0;34m(\u001b[0m \u001b[0mTx\u001b[0m\u001b[0;34m,\u001b[0m \u001b[0mTy\u001b[0m\u001b[0;34m,\u001b[0m \u001b[0;34m'k:'\u001b[0m\u001b[0;34m,\u001b[0m \u001b[0mcolor\u001b[0m\u001b[0;34m=\u001b[0m\u001b[0;34m'orange'\u001b[0m\u001b[0;34m)\u001b[0m \u001b[0;31m# linha pontilha orange\u001b[0m\u001b[0;34m\u001b[0m\u001b[0m\n\u001b[1;32m     16\u001b[0m \u001b[0;31m#plt.plot( Tx, Ty2, 'go') # green bolinha\u001b[0m\u001b[0;34m\u001b[0m\u001b[0;34m\u001b[0m\u001b[0m\n",
      "\u001b[0;32m/home/carreira/anaconda2/lib/python2.7/site-packages/matplotlib/pyplot.pyc\u001b[0m in \u001b[0;36mplot\u001b[0;34m(*args, **kwargs)\u001b[0m\n\u001b[1;32m   3316\u001b[0m                       mplDeprecation)\n\u001b[1;32m   3317\u001b[0m     \u001b[0;32mtry\u001b[0m\u001b[0;34m:\u001b[0m\u001b[0;34m\u001b[0m\u001b[0m\n\u001b[0;32m-> 3318\u001b[0;31m         \u001b[0mret\u001b[0m \u001b[0;34m=\u001b[0m \u001b[0max\u001b[0m\u001b[0;34m.\u001b[0m\u001b[0mplot\u001b[0m\u001b[0;34m(\u001b[0m\u001b[0;34m*\u001b[0m\u001b[0margs\u001b[0m\u001b[0;34m,\u001b[0m \u001b[0;34m**\u001b[0m\u001b[0mkwargs\u001b[0m\u001b[0;34m)\u001b[0m\u001b[0;34m\u001b[0m\u001b[0m\n\u001b[0m\u001b[1;32m   3319\u001b[0m     \u001b[0;32mfinally\u001b[0m\u001b[0;34m:\u001b[0m\u001b[0;34m\u001b[0m\u001b[0m\n\u001b[1;32m   3320\u001b[0m         \u001b[0max\u001b[0m\u001b[0;34m.\u001b[0m\u001b[0m_hold\u001b[0m \u001b[0;34m=\u001b[0m \u001b[0mwashold\u001b[0m\u001b[0;34m\u001b[0m\u001b[0m\n",
      "\u001b[0;32m/home/carreira/anaconda2/lib/python2.7/site-packages/matplotlib/__init__.pyc\u001b[0m in \u001b[0;36minner\u001b[0;34m(ax, *args, **kwargs)\u001b[0m\n\u001b[1;32m   1890\u001b[0m                     warnings.warn(msg % (label_namer, func.__name__),\n\u001b[1;32m   1891\u001b[0m                                   RuntimeWarning, stacklevel=2)\n\u001b[0;32m-> 1892\u001b[0;31m             \u001b[0;32mreturn\u001b[0m \u001b[0mfunc\u001b[0m\u001b[0;34m(\u001b[0m\u001b[0max\u001b[0m\u001b[0;34m,\u001b[0m \u001b[0;34m*\u001b[0m\u001b[0margs\u001b[0m\u001b[0;34m,\u001b[0m \u001b[0;34m**\u001b[0m\u001b[0mkwargs\u001b[0m\u001b[0;34m)\u001b[0m\u001b[0;34m\u001b[0m\u001b[0m\n\u001b[0m\u001b[1;32m   1893\u001b[0m         \u001b[0mpre_doc\u001b[0m \u001b[0;34m=\u001b[0m \u001b[0minner\u001b[0m\u001b[0;34m.\u001b[0m\u001b[0m__doc__\u001b[0m\u001b[0;34m\u001b[0m\u001b[0m\n\u001b[1;32m   1894\u001b[0m         \u001b[0;32mif\u001b[0m \u001b[0mpre_doc\u001b[0m \u001b[0;32mis\u001b[0m \u001b[0mNone\u001b[0m\u001b[0;34m:\u001b[0m\u001b[0;34m\u001b[0m\u001b[0m\n",
      "\u001b[0;32m/home/carreira/anaconda2/lib/python2.7/site-packages/matplotlib/axes/_axes.pyc\u001b[0m in \u001b[0;36mplot\u001b[0;34m(self, *args, **kwargs)\u001b[0m\n\u001b[1;32m   1404\u001b[0m         \u001b[0mkwargs\u001b[0m \u001b[0;34m=\u001b[0m \u001b[0mcbook\u001b[0m\u001b[0;34m.\u001b[0m\u001b[0mnormalize_kwargs\u001b[0m\u001b[0;34m(\u001b[0m\u001b[0mkwargs\u001b[0m\u001b[0;34m,\u001b[0m \u001b[0m_alias_map\u001b[0m\u001b[0;34m)\u001b[0m\u001b[0;34m\u001b[0m\u001b[0m\n\u001b[1;32m   1405\u001b[0m \u001b[0;34m\u001b[0m\u001b[0m\n\u001b[0;32m-> 1406\u001b[0;31m         \u001b[0;32mfor\u001b[0m \u001b[0mline\u001b[0m \u001b[0;32min\u001b[0m \u001b[0mself\u001b[0m\u001b[0;34m.\u001b[0m\u001b[0m_get_lines\u001b[0m\u001b[0;34m(\u001b[0m\u001b[0;34m*\u001b[0m\u001b[0margs\u001b[0m\u001b[0;34m,\u001b[0m \u001b[0;34m**\u001b[0m\u001b[0mkwargs\u001b[0m\u001b[0;34m)\u001b[0m\u001b[0;34m:\u001b[0m\u001b[0;34m\u001b[0m\u001b[0m\n\u001b[0m\u001b[1;32m   1407\u001b[0m             \u001b[0mself\u001b[0m\u001b[0;34m.\u001b[0m\u001b[0madd_line\u001b[0m\u001b[0;34m(\u001b[0m\u001b[0mline\u001b[0m\u001b[0;34m)\u001b[0m\u001b[0;34m\u001b[0m\u001b[0m\n\u001b[1;32m   1408\u001b[0m             \u001b[0mlines\u001b[0m\u001b[0;34m.\u001b[0m\u001b[0mappend\u001b[0m\u001b[0;34m(\u001b[0m\u001b[0mline\u001b[0m\u001b[0;34m)\u001b[0m\u001b[0;34m\u001b[0m\u001b[0m\n",
      "\u001b[0;32m/home/carreira/anaconda2/lib/python2.7/site-packages/matplotlib/axes/_base.pyc\u001b[0m in \u001b[0;36m_grab_next_args\u001b[0;34m(self, *args, **kwargs)\u001b[0m\n\u001b[1;32m    405\u001b[0m                 \u001b[0;32mreturn\u001b[0m\u001b[0;34m\u001b[0m\u001b[0m\n\u001b[1;32m    406\u001b[0m             \u001b[0;32mif\u001b[0m \u001b[0mlen\u001b[0m\u001b[0;34m(\u001b[0m\u001b[0mremaining\u001b[0m\u001b[0;34m)\u001b[0m \u001b[0;34m<=\u001b[0m \u001b[0;36m3\u001b[0m\u001b[0;34m:\u001b[0m\u001b[0;34m\u001b[0m\u001b[0m\n\u001b[0;32m--> 407\u001b[0;31m                 \u001b[0;32mfor\u001b[0m \u001b[0mseg\u001b[0m \u001b[0;32min\u001b[0m \u001b[0mself\u001b[0m\u001b[0;34m.\u001b[0m\u001b[0m_plot_args\u001b[0m\u001b[0;34m(\u001b[0m\u001b[0mremaining\u001b[0m\u001b[0;34m,\u001b[0m \u001b[0mkwargs\u001b[0m\u001b[0;34m)\u001b[0m\u001b[0;34m:\u001b[0m\u001b[0;34m\u001b[0m\u001b[0m\n\u001b[0m\u001b[1;32m    408\u001b[0m                     \u001b[0;32myield\u001b[0m \u001b[0mseg\u001b[0m\u001b[0;34m\u001b[0m\u001b[0m\n\u001b[1;32m    409\u001b[0m                 \u001b[0;32mreturn\u001b[0m\u001b[0;34m\u001b[0m\u001b[0m\n",
      "\u001b[0;32m/home/carreira/anaconda2/lib/python2.7/site-packages/matplotlib/axes/_base.pyc\u001b[0m in \u001b[0;36m_plot_args\u001b[0;34m(self, tup, kwargs)\u001b[0m\n\u001b[1;32m    383\u001b[0m             \u001b[0mx\u001b[0m\u001b[0;34m,\u001b[0m \u001b[0my\u001b[0m \u001b[0;34m=\u001b[0m \u001b[0mindex_of\u001b[0m\u001b[0;34m(\u001b[0m\u001b[0mtup\u001b[0m\u001b[0;34m[\u001b[0m\u001b[0;34m-\u001b[0m\u001b[0;36m1\u001b[0m\u001b[0;34m]\u001b[0m\u001b[0;34m)\u001b[0m\u001b[0;34m\u001b[0m\u001b[0m\n\u001b[1;32m    384\u001b[0m \u001b[0;34m\u001b[0m\u001b[0m\n\u001b[0;32m--> 385\u001b[0;31m         \u001b[0mx\u001b[0m\u001b[0;34m,\u001b[0m \u001b[0my\u001b[0m \u001b[0;34m=\u001b[0m \u001b[0mself\u001b[0m\u001b[0;34m.\u001b[0m\u001b[0m_xy_from_xy\u001b[0m\u001b[0;34m(\u001b[0m\u001b[0mx\u001b[0m\u001b[0;34m,\u001b[0m \u001b[0my\u001b[0m\u001b[0;34m)\u001b[0m\u001b[0;34m\u001b[0m\u001b[0m\n\u001b[0m\u001b[1;32m    386\u001b[0m \u001b[0;34m\u001b[0m\u001b[0m\n\u001b[1;32m    387\u001b[0m         \u001b[0;32mif\u001b[0m \u001b[0mself\u001b[0m\u001b[0;34m.\u001b[0m\u001b[0mcommand\u001b[0m \u001b[0;34m==\u001b[0m \u001b[0;34m'plot'\u001b[0m\u001b[0;34m:\u001b[0m\u001b[0;34m\u001b[0m\u001b[0m\n",
      "\u001b[0;32m/home/carreira/anaconda2/lib/python2.7/site-packages/matplotlib/axes/_base.pyc\u001b[0m in \u001b[0;36m_xy_from_xy\u001b[0;34m(self, x, y)\u001b[0m\n\u001b[1;32m    242\u001b[0m         \u001b[0;32mif\u001b[0m \u001b[0mx\u001b[0m\u001b[0;34m.\u001b[0m\u001b[0mshape\u001b[0m\u001b[0;34m[\u001b[0m\u001b[0;36m0\u001b[0m\u001b[0;34m]\u001b[0m \u001b[0;34m!=\u001b[0m \u001b[0my\u001b[0m\u001b[0;34m.\u001b[0m\u001b[0mshape\u001b[0m\u001b[0;34m[\u001b[0m\u001b[0;36m0\u001b[0m\u001b[0;34m]\u001b[0m\u001b[0;34m:\u001b[0m\u001b[0;34m\u001b[0m\u001b[0m\n\u001b[1;32m    243\u001b[0m             raise ValueError(\"x and y must have same first dimension, but \"\n\u001b[0;32m--> 244\u001b[0;31m                              \"have shapes {} and {}\".format(x.shape, y.shape))\n\u001b[0m\u001b[1;32m    245\u001b[0m         \u001b[0;32mif\u001b[0m \u001b[0mx\u001b[0m\u001b[0;34m.\u001b[0m\u001b[0mndim\u001b[0m \u001b[0;34m>\u001b[0m \u001b[0;36m2\u001b[0m \u001b[0;32mor\u001b[0m \u001b[0my\u001b[0m\u001b[0;34m.\u001b[0m\u001b[0mndim\u001b[0m \u001b[0;34m>\u001b[0m \u001b[0;36m2\u001b[0m\u001b[0;34m:\u001b[0m\u001b[0;34m\u001b[0m\u001b[0m\n\u001b[1;32m    246\u001b[0m             raise ValueError(\"x and y can be no greater than 2-D, but have \"\n",
      "\u001b[0;31mValueError\u001b[0m: x and y must have same first dimension, but have shapes (6,) and (30,)"
     ]
    },
    {
     "data": {
      "image/png": "[encoded data removed]",
      "text/plain": [
       "<matplotlib.figure.Figure at 0x7fd603fb4590>"
      ]
     },
     "metadata": {},
     "output_type": "display_data"
    }
   ],
   "source": [
    "#Gerando o Gráfico das DF´s:\n",
    "\n",
    "Tx=[0,1,2,3,4,5]\n",
    "Ty1=T[:,0]\n",
    "Ty2=T[:,1]\n",
    "Ty3=T[:,2]\n",
    "Ty4=T[:,3]\n",
    "Ty5=T[:,4]\n",
    "Ty6=T[:,5]\n",
    "\n",
    "py.rcParams['figure.figsize'] = (20.0, 10.0)#Redimensiona a figura\n",
    "\n",
    "#-----------------------------------------------------------------------\n",
    "plt.plot( Tx, Ty, 'go') # green bolinha\n",
    "plt.plot( Tx, Ty, 'k:', color='orange') # linha pontilha orange\n",
    "#plt.plot( Tx, Ty2, 'go') # green bolinha\n",
    "#plt.plot( Tx, Ty2, 'k:', color='orange') # linha pontilha orange\n",
    "#plt.plot( Tx, Ty3, 'go') # green bolinha\n",
    "#plt.plot( Tx, Ty3, 'k:', color='orange') # linha pontilha orange\n",
    "#plt.plot( Tx, Ty4, 'go') # green bolinha\n",
    "#plt.plot( Tx, Ty4, 'k:', color='orange') # linha pontilha orange\n",
    "#plt.plot( Tx, Ty5, 'go') # green bolinha\n",
    "#plt.plot( Tx, Ty5, 'k:', color='orange') # linha pontilha orange\n",
    "#plt.plot( Tx, Ty6, 'go') # green bolinha\n",
    "#plt.plot( Tx, Ty6, 'k:', color='orange') # linha pontilha orange\n",
    "#------------------------------------------------------------------------\n",
    "\n",
    "\n",
    "plt.title('$Solu \\c{c} \\~a o$ $Num\\'erica$', fontweight='bold', fontsize=25)\n",
    "plt.tick_params(axis='both', labelsize=15)#aumenta o tamanho dos valores nos eixos\n",
    "\n",
    "plt.grid(True)\n",
    "plt.xlabel(\"$X$\", fontsize=15)\n",
    "plt.ylabel(\"$Temperatura$\", fontsize=15)\n",
    "#plt.savefig('Aula230617/Trab01.jpg')  \n",
    "plt.show()  \n",
    "plt.close()"
   ]
  },
  {
   "cell_type": "code",
   "execution_count": null,
   "metadata": {
    "collapsed": true
   },
   "outputs": [],
   "source": []
  }
 ],
 "metadata": {
  "kernelspec": {
   "display_name": "Python 2",
   "language": "python",
   "name": "python2"
  },
  "language_info": {
   "codemirror_mode": {
    "name": "ipython",
    "version": 2
   },
   "file_extension": ".py",
   "mimetype": "text/x-python",
   "name": "python",
   "nbconvert_exporter": "python",
   "pygments_lexer": "ipython2",
   "version": "2.7.13"
  }
 },
 "nbformat": 4,
 "nbformat_minor": 2
}

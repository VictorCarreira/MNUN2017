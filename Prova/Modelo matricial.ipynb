{
 "cells": [
  {
   "cell_type": "markdown",
   "metadata": {},
   "source": [
    "# Transformando imagem em um arquivo de dados"
   ]
  },
  {
   "cell_type": "markdown",
   "metadata": {},
   "source": [
    "---------------------------------------------------------------------------------------------------------------------------------------------------------------------------------------------------------------------------------------------------------------------------------------------------------------------------------------------------------------------------"
   ]
  },
  {
   "cell_type": "code",
   "execution_count": 1,
   "metadata": {
    "collapsed": true
   },
   "outputs": [],
   "source": [
    "############Pacotes################\n",
    "%matplotlib inline\n",
    "import numpy as np\n",
    "import matplotlib.pyplot as plt\n",
    "import scipy as sp\n",
    "from scipy import misc\n",
    "from PIL import Image, ImageFilter\n",
    "###################################"
   ]
  },
  {
   "cell_type": "markdown",
   "metadata": {},
   "source": [
    "A função misc serve para transformar qualquer imagem em um arquivo de geométrica de dados que carece apenas de propriedade física. "
   ]
  },
  {
   "cell_type": "code",
   "execution_count": 2,
   "metadata": {
    "collapsed": false
   },
   "outputs": [
    {
     "name": "stdout",
     "output_type": "stream",
     "text": [
      "(302, 602)\n"
     ]
    },
    {
     "data": {
      "image/png": "[encoded data removed]",
      "text/plain": [
       "<matplotlib.figure.Figure at 0x7f9ed20d5c50>"
      ]
     },
     "metadata": {},
     "output_type": "display_data"
    }
   ],
   "source": [
    "ma = misc.imread('Modelo.png',mode='P') #carrega o modelo da hipótese, em imagem, e transforma em uma matriz de dados. Função misc.imread()\n",
    "print(ma.shape) #mostra a matriz\n",
    "\n",
    "# no 'mode' usar:\n",
    "#* 'L' (8-bit pixels, black and white)\n",
    "#* 'P' (8-bit pixels, mapped to any other mode using a color palette)\n",
    "#* 'RGB' (3x8-bit pixels, true color)\n",
    "#* 'RGBA' (4x8-bit pixels, true color with transparency mask)\n",
    "#* 'CMYK' (4x8-bit pixels, color separation)\n",
    "#* 'YCbCr' (3x8-bit pixels, color video format)\n",
    "#* 'I' (32-bit signed integer pixels)\n",
    "#* 'F' (32-bit floating point pixels)\n",
    "\n",
    "plt.matshow(ma,vmin=0.0,vmax=2.0)#Cria o gráfico com a matriz da imagem (cria um valor mínimo e máximo)\n",
    "plt.colorbar(mappable=None, cax=None, ax=None)#Define o tipo de cor da barra de dados\n",
    "plt.savefig('modelo.pdf')\n",
    "#plt.grid(color='r', linestyle='-', linewidth=2)\n",
    "plt.show()#mostra o gráfico\n",
    "\n"
   ]
  },
  {
   "cell_type": "code",
   "execution_count": 3,
   "metadata": {
    "collapsed": false
   },
   "outputs": [
    {
     "name": "stdout",
     "output_type": "stream",
     "text": [
      "[[1 1 1 ..., 1 1 1]\n",
      " [1 1 1 ..., 1 1 1]\n",
      " [1 1 1 ..., 1 1 1]\n",
      " ..., \n",
      " [2 2 2 ..., 2 2 2]\n",
      " [2 2 2 ..., 2 2 2]\n",
      " [2 2 2 ..., 2 2 2]]\n"
     ]
    }
   ],
   "source": [
    "#Analisando as dimensões da matriz de dados:\n",
    "tamanho=len(ma)\n",
    "ma-np.array(ma)\n",
    "print(ma)"
   ]
  },
  {
   "cell_type": "code",
   "execution_count": 4,
   "metadata": {
    "collapsed": false
   },
   "outputs": [
    {
     "name": "stdout",
     "output_type": "stream",
     "text": [
      "(302, 602)\n",
      "1500.0\n"
     ]
    },
    {
     "data": {
      "image/png": "[encoded data removed]",
      "text/plain": [
       "<matplotlib.figure.Figure at 0x7f9ea14568d0>"
      ]
     },
     "metadata": {},
     "output_type": "display_data"
    }
   ],
   "source": [
    "#Atribuindo propriedade física as camadas do modelo\n",
    "\n",
    "#Vel = [[0.0]*np.shape(ma)[1]]*np.shape(ma)[0]\n",
    "#Vel = np.array(vel,float)\n",
    "\n",
    "#for i in range(np.shape(ma)[0]-1):\n",
    "#    for j in range(np.shape(ma)[1]-1):\n",
    "#        if ma[i,j] == 0:     \n",
    "#            Vel[i,j] = 2000    \n",
    "#        if ma[i,j] == 1:\n",
    "#            Vel[i,j] = 1500\n",
    "#        if ma[i,j] == 2:\n",
    "#            Vel[i,j] = 2100\n",
    "            \n",
    "               \n",
    "#print(np.shape(Vel))   \n",
    "\n",
    "Vel = [[0]*np.shape(ma)[1]]*np.shape(ma)[0] \n",
    "Vel = np.array(Vel,float) \n",
    "\n",
    "for i in range(np.shape(ma)[0]-1): \n",
    "    for j in range(np.shape(ma)[1]-1): \n",
    "        if ma[i,j] == 0:     \n",
    "            Vel[i,j] = 2000    \n",
    "        if ma[i,j] == 1:\n",
    "            Vel[i,j] = 1500\n",
    "        if ma[i,j] == 2:\n",
    "            Vel[i,j] = 2100\n",
    "            \n",
    "            \n",
    "\n",
    "print(np.shape(Vel))\n",
    "print(Vel[0,0])\n",
    "plt.imshow(Vel)\n",
    "plt.colorbar()\n",
    "plt.show()\n",
    "    "
   ]
  },
  {
   "cell_type": "code",
   "execution_count": 5,
   "metadata": {
    "collapsed": false
   },
   "outputs": [],
   "source": [
    "#Salvando a matriz de dados:\n",
    "np.savetxt('Modelo.txt', Vel)\n",
    "plt.close()\n"
   ]
  },
  {
   "cell_type": "code",
   "execution_count": 14,
   "metadata": {
    "collapsed": false
   },
   "outputs": [],
   "source": [
    "#Salvando o modelo em formato hexadecimal e binário:\n",
    "#Abra o terminal, no linux, dentro da pasta e digite < xxd \"nome do arquivo de entrada.txt\" \"nome do arquivo de saída.hex cat \"nome do arquivo de saída.hex\">  para hexa decimal\n",
    "#Abra o terminal, no linux, dentro da pasta e digite < xxd -b \"nome do arquivo de entrada.txt\" \"nome do arquivo de saída.bin\"  para hexa binário\n",
    "#Ou\n",
    "#xxd -b -g0 nomedoarquivo.txt | cut -d' ' -f2 (opção mais limpa)\n"
   ]
  },
  {
   "cell_type": "markdown",
   "metadata": {},
   "source": [
    "___________________________________________________________________________________________________________________________________________________________________________________________________________________________________________________________________________________________________________________________________________________________________________"
   ]
  }
 ],
 "metadata": {
  "anaconda-cloud": {},
  "kernelspec": {
   "display_name": "Python [conda root]",
   "language": "python",
   "name": "conda-root-py"
  },
  "language_info": {
   "codemirror_mode": {
    "name": "ipython",
    "version": 3
   },
   "file_extension": ".py",
   "mimetype": "text/x-python",
   "name": "python",
   "nbconvert_exporter": "python",
   "pygments_lexer": "ipython3",
   "version": "3.5.2"
  }
 },
 "nbformat": 4,
 "nbformat_minor": 0
}

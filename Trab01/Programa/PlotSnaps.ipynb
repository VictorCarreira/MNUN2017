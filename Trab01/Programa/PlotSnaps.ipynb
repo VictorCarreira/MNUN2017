{
 "cells": [
  {
   "cell_type": "markdown",
   "metadata": {},
   "source": [
    "# Leitura e visualização de um arquivo *.bin\n"
   ]
  },
  {
   "cell_type": "markdown",
   "metadata": {},
   "source": [
    "----------------------------------------------------------------------------------------------------------------------------------------------------------------------------------------------------------------------------------------\n",
    "\n"
   ]
  },
  {
   "cell_type": "code",
   "execution_count": 42,
   "metadata": {
    "collapsed": true
   },
   "outputs": [],
   "source": [
    "################PACOTES################\n",
    "% matplotlib inline\n",
    "import pickle \n",
    "import numpy as np\n",
    "import pylab as py\n",
    "import matplotlib\n",
    "import matplotlib.pyplot as plt\n",
    "from matplotlib import animation\n",
    "from fatiando.seismic import wavefd\n",
    "from fatiando.vis import mpl\n",
    "#####################################\n",
    "\n"
   ]
  },
  {
   "cell_type": "markdown",
   "metadata": {},
   "source": [
    "# Abrindo *.bin"
   ]
  },
  {
   "cell_type": "markdown",
   "metadata": {},
   "source": [
    "\n",
    "\n",
    "O comando de abertura de arquivo é o open('nome_arq', 'modo', buf ), onde nome_arq é o caminho até o arquivo partindo do ponto onde está o script - caso o arquivo esteja no mesmo local é só o mesmo nome do arquivo - e modo pode ser uma das seguintes opções: r - leitura -, w - escritura -, a - anexar -, b - (ex. rb leitura de um binário) binário -, + - (ex. r+) leitura + escritura ou vice versa. Se buf = 1 então python faz buffer do arquivo copiando em memoria e não no disco e só copiando ao disco quando for feito um flush() ou um close(). Si buf = 0 então o arquivo é copiado diretamente ao disco. "
   ]
  },
  {
   "cell_type": "code",
   "execution_count": 43,
   "metadata": {
    "collapsed": false
   },
   "outputs": [],
   "source": [
    "# reading a binary data hardway. b is important -> binary\n",
    "#data1 = open(\"snap001.bin\",\"rb\").read()\n",
    "#data2 = open(\"snap002.bin\",\"rb\").read()\n",
    "#data3 = open(\"snap003.bin\",\"rb\").read()\n",
    "#data4 = open(\"snap004.bin\",\"rb\").read()\n",
    "#data5 = open(\"snap005.bin\",\"rb\").read()\n",
    "#data6 = open(\"snap006.bin\",\"rb\").read()\n",
    "#data7 = open(\"snap007.bin\",\"rb\").read()\n",
    "#data8 = open(\"snap008.bin\",\"rb\").read()\n",
    "#data9 = open(\"snap009.bin\",\"rb\").read()\n",
    "#data10 = open(\"snap010.bin\",\"rb\").read()\n",
    "\n"
   ]
  },
  {
   "cell_type": "code",
   "execution_count": 44,
   "metadata": {
    "collapsed": false
   },
   "outputs": [
    {
     "name": "stdout",
     "output_type": "stream",
     "text": [
      "[ 0  1  2 ..., 13 14 15]\n"
     ]
    },
    {
     "data": {
      "image/png": "[encoded data removed]",
      "text/plain": [
       "<matplotlib.figure.Figure at 0x7f417ec2b690>"
      ]
     },
     "metadata": {},
     "output_type": "display_data"
    }
   ],
   "source": [
    "orig_array = np.arange(10000, dtype=np.uint8)\n",
    "with open('snap001', 'wb') as write_fh:\n",
    "    write_fh.write(orig_array)\n",
    "\n",
    "with open('snap001', 'rb') as fh:\n",
    "    loaded_array = np.frombuffer(fh.read(), dtype=np.uint8)\n",
    "\n",
    "print loaded_array\n",
    "plt.plot(loaded_array)\n",
    "plt.show()"
   ]
  },
  {
   "cell_type": "code",
   "execution_count": null,
   "metadata": {
    "collapsed": true
   },
   "outputs": [],
   "source": []
  },
  {
   "cell_type": "code",
   "execution_count": null,
   "metadata": {
    "collapsed": true
   },
   "outputs": [],
   "source": []
  }
 ],
 "metadata": {
  "kernelspec": {
   "display_name": "Python 2",
   "language": "python",
   "name": "python2"
  },
  "language_info": {
   "codemirror_mode": {
    "name": "ipython",
    "version": 2
   },
   "file_extension": ".py",
   "mimetype": "text/x-python",
   "name": "python",
   "nbconvert_exporter": "python",
   "pygments_lexer": "ipython2",
   "version": "2.7.13"
  }
 },
 "nbformat": 4,
 "nbformat_minor": 2
}
